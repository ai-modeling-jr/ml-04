{
 "cells": [
  {
   "cell_type": "code",
   "execution_count": null,
   "metadata": {
    "colab": {
     "base_uri": "https://localhost:8080/",
     "height": 451
    },
    "executionInfo": {
     "elapsed": 26020,
     "status": "ok",
     "timestamp": 1714631591643,
     "user": {
      "displayName": "박병운",
      "userId": "04400398390095856511"
     },
     "user_tz": -540
    },
    "id": "m_B-TcuF2G5X",
    "outputId": "84a3699b-4d9d-47b1-f007-686bb0f6b7b3"
   },
   "outputs": [],
   "source": [
    "# !pip install mglearn\n",
    "import mglearn\n",
    "import sklearn\n",
    "sklearn.__version__"
   ]
  },
  {
   "cell_type": "markdown",
   "metadata": {
    "id": "gTZHDr3OogcO"
   },
   "source": [
    "# 지도학습 - 규제선형모델 (Ridge_Lasso_Regression)\n"
   ]
  },
  {
   "cell_type": "markdown",
   "metadata": {
    "id": "GeEb2zESkWkI"
   },
   "source": [
    "Linear Regression의 문제\n",
    "\n",
    "- 단순 선형회귀 : 단 하나의 특성(feature)을 가지고 라벨값(label) 또는 타깃(target)을 예측하기 위한\n",
    "회귀 모델을 찾는 것\n",
    "- 다중 선형회귀 : 여러 개의 특성을 활용해서 회귀모델을 찾는 것\n",
    "\n",
    "\n"
   ]
  },
  {
   "cell_type": "markdown",
   "metadata": {
    "id": "naenDMKWko1w"
   },
   "source": [
    "다중 선형 회귀 모델은 과대적합(overfitting) 될 때가 종종 발생\n",
    "\n",
    "주어진 샘플들의 특성값들과 라벨값의 관계를 필요이상으로 너무 자세하게 복잡하게 분석했다는 것\n",
    "- 새로운 데이터가 주어졌을 때 제대로 예측해내기가 어려움 (일반화 능력이 떨어짐)\n",
    "- Ridge / Lasso / Elastic Regression 등장"
   ]
  },
  {
   "cell_type": "markdown",
   "metadata": {
    "id": "ZxqInZoR3GeR"
   },
   "source": [
    "Bias(편향) 오차와 Variance(분산) 오차\n",
    "\n",
    "특성이 증가하면 복잡성이 증가 -> variance는 증가, bias는 감소 -> Overfitting 발생\n",
    "\n",
    "<center>\n",
    " <img src=\"https://t1.daumcdn.net/cfile/tistory/99CDCC33599AC28F07\" alt=\"편향과 분산\" width=\"40%\" />\n",
    "\n",
    " Bias(편향) 오차와 Variance(분산) 오차를 표현\n",
    "\n",
    "</center>"
   ]
  },
  {
   "cell_type": "markdown",
   "metadata": {
    "id": "oD2GVA7J5PIU"
   },
   "source": [
    "- bias 감소가 variance의 증가와 같아지는 최적의 point를 찾아야 함\n",
    "- Overfitting 문제 해결 : 데이터의 복잡도 줄이기, 정규화를 통한 분산 감소\n",
    "\n",
    "<center>\n",
    " <img src=\"https://img1.daumcdn.net/thumb/R1280x0/?scode=mtistory2&fname=http%3A%2F%2Fcfile9.uf.tistory.com%2Fimage%2F996DB433599AC34225B9BD\" alt=\"모델 복잡도\" width=\"40%\" />\n",
    "\n",
    " 모델 복잡도\n",
    "\n",
    "</center>\n",
    "\n",
    "\n"
   ]
  },
  {
   "cell_type": "markdown",
   "metadata": {
    "id": "lW0YyHhd-MAx"
   },
   "source": [
    "\n",
    "|구분| 모델 복잡도| 적합성|\n",
    "|---|---|---|\n",
    "|Bias 오차가 낮은 & Variance 오차가 높은|복잡| 과대적합(over fitting)|\n",
    " |Bias 오차가 높은 Variance 오차가 낮은| 단순| 과소적합(under fitting)|\n",
    "\n",
    "* Bias(편향) 에러가 높아지는 것은  많은 데이터를 고려하지 않아 (=모델이 너무 단순)  정확한 예측을 하지 못하는 경우\n",
    "\n",
    "* Variance(분산) 에러는 노이즈까지 전부 학습하여 (=모델이 너무 복잡) 약간의 input에도 예측 Y 값이 크게 흔들리는 것\n",
    "\n",
    "이 두가지 에러가 상호 Trade-off 관계에 있어서 이 둘을 모두 잡는 것은 불가능 한 딜레마가 발생"
   ]
  },
  {
   "cell_type": "markdown",
   "metadata": {
    "id": "XggniyAHpb9n"
   },
   "source": [
    "정규화(Regularization, 규제)\n",
    "\n",
    "- 과대적합이 되지 않도록 모델을 강제로 제한하는 것을 의미.\n",
    "- 가중치(w)의 값을 조정하여 제약을 주는 것.\n",
    "\n",
    "- L1 규제 : Lasso\n",
    "  - <font  color=yellow>w의 모든 원소에 똑같은 힘으로 규제를 적용하는 방법. 특정 계수들은 0이 됨.      \n",
    "  - 특성선택(Feature Selection)이 자동으로 이루어진다.</font>\n",
    "\n",
    "- L2 규제 : Ridge\n",
    "  - <font  color=yellow>w의 모든 원소에 골고루 규제를 적용하여 0에 가깝게 만든다.</font>\n"
   ]
  },
  {
   "cell_type": "markdown",
   "metadata": {
    "id": "zHeJUocP-DZR"
   },
   "source": [
    "## Ridge Regression"
   ]
  },
  {
   "cell_type": "markdown",
   "metadata": {
    "id": "xm-rHLfBFiuz"
   },
   "source": [
    "평균제곱오차식에 alpha 항이 추가\n",
    "- alpha 값을 크게 하면 패널티 효과가 커지고(가중치 감소),\n",
    "- alpha 값을 작게 하면 그 반대가 된다."
   ]
  },
  {
   "cell_type": "markdown",
   "metadata": {
    "id": "OC0QA0yjmhrT"
   },
   "source": [
    "- 기존 선형회귀에서는 적절한 가중치와 편향을 찾아내는 것이 관건\n",
    "- 추가적인 제약 조건(규제항)을 포함 – 가중치에 대한 제곱의 합을 사용\n",
    "- <font  color=yellow>MSE가 최소가 되게 하는 가중치(w)와 편향(b)을 찾는</font> 동시에 <font  color=yellow> MSE와 규제항의 합이 최소</font>가 되어야 함 -> 가중치 W의 모든 원소가 0이 되거나 0에 근사하도록 -> <font  color=yellow>학습한 가중치 (W)의 제곱을 규제항 (L2 규제)</font>으로 사용\n",
    "\n",
    "> 비용함수의 목표는 아래식을 최소화하는 W를 찾는 것\n",
    "\n",
    "> $$  \\begin{align}\n",
    "cost(W,b)\\\\\n",
    "& =MSE+규제항 \\\\\n",
    "& =MSE+\\alpha \\cdot { L }_{ 2 }norm \\\\\n",
    "& =\\cfrac { 1 }{ m } \\sum\\limits _{ i=1 }^{ m }{ (H({ x }^{ (i) })-{ y }^{ (i) }) } ^{ 2 }+\\alpha \\sum\\limits _{ j=1 }^{ n }{ { w }_{ j }^{ 2 } } \\\\\n",
    "& (n : 가중치의 개수, α : 규제의 정도) \\end{align} $$\n",
    "\n",
    "> MSE에 의한 Overfitting을 줄이기 위해 α를 크게 함 -> 정확도 감소 -> α가 너무 크면 MSE의 비중이 작아져서 과소적합 가능성 증가\n",
    "\n",
    "- α가 증가하면 bias는 증가하고 variance는 감소하며 α가 0이 되면 MSE와 동일하게 되어 선형 회귀모델이 됨 -> Ridge 모델은 <font  color=yellow>bias을 약간 손해보면서 variance를 크게 줄여</font> 성능의 향상\n",
    "- 단점 : <font  color=yellow>몇몇 변수가 중요하더라도 모든 변수에 대해 적합을 해야 하고 완벽한 0은 나오지 않음</font> -> 예측의 문제가 아니라 해석의 문제"
   ]
  },
  {
   "cell_type": "markdown",
   "metadata": {
    "id": "eSxLnLuiIMTI"
   },
   "source": [
    "Ridge()\n",
    "```\n",
    "Ridge(alpha, fit_intercept, normalize, copy_X, max_iter, tol, solver, random_state)\n",
    "```\n",
    "\n",
    "- alpha : 값이 클수록 강력한 정규화(규제) 설정하여 분산을 줄임, 양수로 설정\n",
    "- fit_intercept : 모형에 상수항 (절편)이 있는가 없는가를 결정하는 인수 (default : True)\n",
    "- normalize : 매개변수 무시 여부\n",
    "- copy_X : X의 복사 여부\n",
    "- max_iter : 계산에 사용할 작업 수\n",
    "- tol : 정밀도\n",
    "- solver : 계산에 사용할 알고리즘 (auto, svd, cholesky, lsqr, sparse_cg, sag, saga)\n",
    "- random_state : 난수 seed 설정\n"
   ]
  },
  {
   "cell_type": "markdown",
   "metadata": {
    "id": "B750N3Vajl4k"
   },
   "source": [
    "#### Ridge_Lasso_Regression 실습 01\n",
    "\n",
    "확장 보스턴 집값 셋에 선형회귀 적용"
   ]
  },
  {
   "cell_type": "code",
   "execution_count": null,
   "metadata": {
    "executionInfo": {
     "elapsed": 485,
     "status": "ok",
     "timestamp": 1714631697114,
     "user": {
      "displayName": "박병운",
      "userId": "04400398390095856511"
     },
     "user_tz": -540
    },
    "id": "WNWaeRb-O3yY"
   },
   "outputs": [],
   "source": [
    "import numpy as np\n",
    "import matplotlib.pyplot as plt\n",
    "from sklearn.linear_model import LinearRegression, Ridge, Lasso, ElasticNet\n",
    "%matplotlib inline"
   ]
  },
  {
   "cell_type": "code",
   "execution_count": null,
   "metadata": {
    "colab": {
     "base_uri": "https://localhost:8080/"
    },
    "executionInfo": {
     "elapsed": 2213,
     "status": "ok",
     "timestamp": 1714631802628,
     "user": {
      "displayName": "박병운",
      "userId": "04400398390095856511"
     },
     "user_tz": -540
    },
    "id": "XZHI09W-jlXi",
    "outputId": "c89ab6a7-d06d-449e-f508-a662517d7dce"
   },
   "outputs": [],
   "source": [
    "# 확장 보스턴 집값\n",
    "import mglearn\n",
    "from sklearn.model_selection import train_test_split\n",
    "\n",
    "X, y = mglearn.datasets.load_extended_boston()\n",
    "X_train, X_test, y_train, y_test = train_test_split(X, y, random_state=0)\n",
    "X_train.shape"
   ]
  },
  {
   "cell_type": "code",
   "execution_count": null,
   "metadata": {
    "colab": {
     "base_uri": "https://localhost:8080/"
    },
    "executionInfo": {
     "elapsed": 4,
     "status": "ok",
     "timestamp": 1714631883335,
     "user": {
      "displayName": "박병운",
      "userId": "04400398390095856511"
     },
     "user_tz": -540
    },
    "id": "gRUv-h4vb3HF",
    "outputId": "9ea6fd7b-2954-4b2d-cdc5-0916de2f0f3b"
   },
   "outputs": [],
   "source": [
    "# 선형회귀 적용\n",
    "model = LinearRegression().fit(X_train, y_train)\n",
    "\n",
    "print('훈련 점수:', model.score(X_train, y_train) )\n",
    "print('테스트점수:', model.score(X_test, y_test) )"
   ]
  },
  {
   "cell_type": "markdown",
   "metadata": {
    "id": "aiDpGVLn1GOX"
   },
   "source": [
    "확장 보스턴 집값 셋에 릿지회귀 적용"
   ]
  },
  {
   "cell_type": "code",
   "execution_count": null,
   "metadata": {
    "colab": {
     "base_uri": "https://localhost:8080/"
    },
    "executionInfo": {
     "elapsed": 425,
     "status": "ok",
     "timestamp": 1714632031276,
     "user": {
      "displayName": "박병운",
      "userId": "04400398390095856511"
     },
     "user_tz": -540
    },
    "id": "6_tFVO-Bk65j",
    "outputId": "7db91a58-b41d-40fc-d384-a56d91e1bb62"
   },
   "outputs": [],
   "source": [
    "# model_ridge\n",
    "model_ridge = Ridge().fit(X_train, y_train)\n",
    "\n",
    "print('훈련 점수:', model_ridge.score(X_train, y_train) )\n",
    "print('테스트점수:', model_ridge.score(X_test, y_test) )"
   ]
  },
  {
   "cell_type": "code",
   "execution_count": null,
   "metadata": {
    "colab": {
     "base_uri": "https://localhost:8080/"
    },
    "executionInfo": {
     "elapsed": 483,
     "status": "ok",
     "timestamp": 1714632071700,
     "user": {
      "displayName": "박병운",
      "userId": "04400398390095856511"
     },
     "user_tz": -540
    },
    "id": "fADHQ11Vcj3m",
    "outputId": "3080d045-22e9-48fc-f5ca-0cb65baf8c88"
   },
   "outputs": [],
   "source": [
    "model_ridge_10 = Ridge(alpha=10).fit(X_train, y_train)\n",
    "\n",
    "print('훈련 점수:', model_ridge_10.score(X_train, y_train) )\n",
    "print('테스트점수:', model_ridge_10.score(X_test, y_test) )"
   ]
  },
  {
   "cell_type": "code",
   "execution_count": null,
   "metadata": {
    "colab": {
     "base_uri": "https://localhost:8080/"
    },
    "executionInfo": {
     "elapsed": 666,
     "status": "ok",
     "timestamp": 1714632115239,
     "user": {
      "displayName": "박병운",
      "userId": "04400398390095856511"
     },
     "user_tz": -540
    },
    "id": "IsCl0eRjcv_V",
    "outputId": "63aab2c3-2255-40b3-a715-0b27c34bee56"
   },
   "outputs": [],
   "source": [
    "model_ridge_01 = Ridge(alpha=0.1).fit(X_train, y_train)\n",
    "\n",
    "print('훈련 점수:', model_ridge_01.score(X_train, y_train) )\n",
    "print('테스트점수:', model_ridge_01.score(X_test, y_test) )"
   ]
  },
  {
   "cell_type": "code",
   "execution_count": null,
   "metadata": {
    "colab": {
     "base_uri": "https://localhost:8080/",
     "height": 447
    },
    "executionInfo": {
     "elapsed": 629,
     "status": "ok",
     "timestamp": 1714632121499,
     "user": {
      "displayName": "박병운",
      "userId": "04400398390095856511"
     },
     "user_tz": -540
    },
    "id": "Vt13ik0hdEPF",
    "outputId": "6eaf01f4-43e7-4fdb-928d-e10f00b29758"
   },
   "outputs": [],
   "source": [
    "# α 값의 변화에 따른 가중치 (coef_)의 변화를 시각화\n",
    "plt.plot(model_ridge_10.coef_, '^', label='Ridge alpha=10')\n",
    "plt.plot(model_ridge.coef_, 's', label='Ridge alpha=1')\n",
    "plt.plot(model_ridge_01.coef_, 'v', label='Ridge alpha=0.1')\n",
    "plt.plot(model.coef_, 'o', label='LinearRegression')\n",
    "plt.hlines(0, 0, len(model.coef_))\n",
    "plt.ylim(-25, 25)"
   ]
  },
  {
   "cell_type": "markdown",
   "metadata": {
    "id": "VMETHZ_bm9dv"
   },
   "source": [
    "## Lasso Regression"
   ]
  },
  {
   "cell_type": "markdown",
   "metadata": {
    "id": "q7W0ttDOJhLJ"
   },
   "source": [
    "- 릿지 회귀의 단점을 해결하기 위해 대안으로 나온 방법\n",
    "학습한 가중치의 절대값을 규제항(L1 규제)으로 사용 – 가중치의 절대값의 합을 사용\n",
    "- 학습한 가중치의 절대값을 규제항(L1 규제)으로 사용 – 가중치의 절대값의 합을 사용\n",
    "\n",
    "> 비용함수의 목표는 아래식을 최소화하는 W를 찾는 것\n",
    "\n",
    ">$$  \\begin{align}\n",
    "cost(W,b)   \\\\\n",
    "& =MSE+규제항 \\\\  \n",
    "& =MSE+\\alpha \\cdot { L }_{ 1 }norm \\\\  \n",
    "& =\\cfrac { 1 }{ m } \\sum\\limits_{ i=1 }^{ m }{ (H({ x }^{ (i) })-{ y }^{ (i) }) } ^{ 2 }+\\alpha \\sum\\limits_{ j=1 }^{ n }{ \\left| { w }_{ j } \\right|  }  \\\\\n",
    "& (n:가중치의개수,α:규제의정도)  \\end{align} $$\n",
    "\n",
    "\n",
    "- 적당한 α만으로 몇몇 계수를 정확하게 0으로 만들 수 있음 -> 해석을 용이하게 함\n",
    "- MSE와 규제항의 합이 최소가 되게 하는 파라미터 W와 b를 찾는 것이 Lasso의 목표\n",
    "- MSE항이 작아질 수록 오차가 작아지고, L1-norm이 작아질 수록 많은 가중치들이 0이 되거나 0에 가까워짐 -> 데이터 전 처리에 주로 사용 (필요 없는 데이터 제거)\n",
    "- Ridge와 Lasso의 성능 차이는 사용하는 데이터의 상황에 따라 다름 -> 유의미한 변수가 적을 때는 Lasso가 반대의 경우는 Ridge가 더 좋은 성능을 보임."
   ]
  },
  {
   "cell_type": "markdown",
   "metadata": {
    "id": "x60tFa_hIwF3"
   },
   "source": [
    "Lasso()\n",
    "```\n",
    "Lasso(alpha, fit_intercept, normalize, precompute, copy_X, max_iter, tol, warm_start, positive, solver, random_state, selection)\n",
    "```\n",
    "- alpha : 값이 클수록 강력한 정규화(규제) 설정하여 분산을 줄임, 양수로 설정\n",
    "- fit_intercept : 모형에 상수항 (절편)이 있는가 없는가를 결정하는 인수 (default : True)\n",
    "- normalize : 매개변수 무시 여부\n",
    "- precompute : 계산속도를 높이기 위해 미리 계산된 그램 매트릭스를 사용할 것인지 여부\n",
    "- copy_X : X의 복사 여부\n",
    "- max_iter : 계산에 사용할 작업 수\n",
    "- tol : 정밀도\n",
    "- warm_start : 이전 모델을 초기화로 적합하게 사용할 것인지 여부\n",
    "- positive : 계수가 양수로 사용할 것인지 여부\n",
    "- solver : 계산에 사용할 알고리즘 (auto, svd, cholesky, lsqr, sparse_cg, sag, saga)\n",
    "- random_state : 난수 seed 설정\n",
    "- selection : 계수의 업데이트 방법 설정 (random으로 설정하면 tol이 1e-4보다 높을 때 빠른 수렴)"
   ]
  },
  {
   "cell_type": "code",
   "execution_count": null,
   "metadata": {
    "colab": {
     "base_uri": "https://localhost:8080/"
    },
    "executionInfo": {
     "elapsed": 3,
     "status": "ok",
     "timestamp": 1714632322531,
     "user": {
      "displayName": "박병운",
      "userId": "04400398390095856511"
     },
     "user_tz": -540
    },
    "id": "5UKOcWuwnpO9",
    "outputId": "2dfe2158-f1ec-4e03-f965-501f141dc832"
   },
   "outputs": [],
   "source": [
    "from sklearn.linear_model import Lasso\n",
    "\n",
    "# lasso\n",
    "model_lasso = Lasso().fit(X_train, y_train)\n",
    "\n",
    "print('훈련 점수:', model_lasso.score(X_train, y_train) )\n",
    "print('테스트점수:', model_lasso.score(X_test, y_test) )\n",
    "print('사용한 특성 수:', np.sum( model_lasso.coef_ != 0 ) )"
   ]
  },
  {
   "cell_type": "code",
   "execution_count": null,
   "metadata": {
    "colab": {
     "base_uri": "https://localhost:8080/"
    },
    "executionInfo": {
     "elapsed": 465,
     "status": "ok",
     "timestamp": 1714632416939,
     "user": {
      "displayName": "박병운",
      "userId": "04400398390095856511"
     },
     "user_tz": -540
    },
    "id": "MbQ_1gl_g01w",
    "outputId": "b18392b5-435f-4192-f4f5-e56bb623a80f"
   },
   "outputs": [],
   "source": [
    "model_lasso_001 = Lasso(alpha=0.01, max_iter=10000).fit(X_train, y_train)\n",
    "\n",
    "print('훈련 점수:', model_lasso_001.score(X_train, y_train) )\n",
    "print('테스트점수:', model_lasso_001.score(X_test, y_test) )\n",
    "print('사용한 특성 수:', np.sum( model_lasso_001.coef_ != 0 ) )"
   ]
  },
  {
   "cell_type": "code",
   "execution_count": null,
   "metadata": {
    "colab": {
     "base_uri": "https://localhost:8080/"
    },
    "executionInfo": {
     "elapsed": 5934,
     "status": "ok",
     "timestamp": 1714632471395,
     "user": {
      "displayName": "박병운",
      "userId": "04400398390095856511"
     },
     "user_tz": -540
    },
    "id": "b11b8QOmg0y_",
    "outputId": "932d8836-1801-4e52-f551-1f9d6dbfb3e5"
   },
   "outputs": [],
   "source": [
    "model_lasso_00001 = Lasso(alpha=0.0001, max_iter=100000).fit(X_train, y_train)\n",
    "\n",
    "print('훈련 점수:', model_lasso_00001.score(X_train, y_train) )\n",
    "print('테스트점수:', model_lasso_00001.score(X_test, y_test) )\n",
    "print('사용한 특성 수:', np.sum( model_lasso_00001.coef_ != 0 ) )"
   ]
  },
  {
   "cell_type": "code",
   "execution_count": null,
   "metadata": {
    "colab": {
     "base_uri": "https://localhost:8080/",
     "height": 511
    },
    "executionInfo": {
     "elapsed": 654,
     "status": "ok",
     "timestamp": 1714632474697,
     "user": {
      "displayName": "박병운",
      "userId": "04400398390095856511"
     },
     "user_tz": -540
    },
    "id": "3nxYX3Hvg0wc",
    "outputId": "b59c3dd0-362d-45e2-e002-493066e332e2"
   },
   "outputs": [],
   "source": [
    "plt.plot(model_lasso.coef_, 's', label='Lasso alpha=1')\n",
    "plt.plot(model_lasso_001.coef_, '^', label='Lasso alpha=0.01')\n",
    "plt.plot(model_lasso_00001.coef_, 'v', label='Lasso alpha=0.0001')\n",
    "\n",
    "plt.plot(model.coef_, 'o', label='LinearRegression')\n",
    "plt.hlines(0, 0, len(model.coef_))\n",
    "plt.ylim(-25, 25)\n",
    "plt.legend(ncol=2, loc=(0, 1.05))"
   ]
  },
  {
   "cell_type": "markdown",
   "metadata": {
    "id": "nX0vWJyMzyHw"
   },
   "source": [
    "## ElasticNet Regression"
   ]
  },
  {
   "cell_type": "markdown",
   "metadata": {
    "id": "qNhBEvwxz1nb"
   },
   "source": [
    "- 선형 회귀에 2가지 규제항 (L1 규제항, L2 규제항)을 추가한 것\n",
    "\n",
    "> 비용함수의 목표는 아래식을 최소화하는 W를 찾는 것\n",
    "\n",
    "> \\begin{align}\n",
    "cost(W,b)\\\\\n",
    "& =MSE+규제항\\\\\n",
    "& =MSE+ { \\alpha }_{ 1 }\\cdot { L }_{ 1 }norm + { \\alpha }_{ 2 }\\cdot { L }_{ 2 }norm\\\\\n",
    "& =\\cfrac { 1 }{ m } \\sum\\limits _{ i=1 }^{ m }{ (H({ x }^{ (i) })-{ y }^{ (i) }) } ^{ 2 } +\\alpha _{ 1 }\\sum\\limits _{ j=1 }^{ n }{ \\left| { w }_{ j } \\right|  +\\alpha _{ 2 }\\sum\\limits_{ j=1 }^{ n }{ { w }_{ j }^{ 2 } } } \\\\\n",
    "& (n:가중치의개수,α:규제의정도) \\end{align}"
   ]
  },
  {
   "cell_type": "markdown",
   "metadata": {
    "id": "Sulpmmg910dE"
   },
   "source": [
    "ElasticNet()\n",
    "```\n",
    "ElasticNet(alpha, l1_ratio, fit_intercept, normalize, precompute, max_iter, copy_X,\n",
    "tol, warm_start, positive, random_state, selection)\n",
    "```\n",
    "- alpha : 값이 클수록 강력한 정규화(규제) 설정하여 분산을 줄임, 양수로 설정\n",
    "- l1_ratio : L1 규제의 비율 (혼합비율?)\n",
    "- fit_intercept : 모형에 상수항 (절편)이 있는가 없는가를 결정하는 인수 (default : True)\n",
    "- normalize : 매개변수 무시 여부\n",
    "- precompute : 계산속도를 높이기 위해 미리 계산된 그램 매트릭스를 사용할 것인지 여부\n",
    "- copy_X : X의 복사 여부\n",
    "- max_iter : 계산에 사용할 작업 수\n",
    "- tol : 정밀도\n",
    "- warm_start : 이전 모델을 초기화로 적합하게 사용할 것인지 여부\n",
    "- positive : 계수가 양수로 사용할 것인지 여부\n",
    "- random_state : 난수 seed 설정\n",
    "- selection : 계수의 업데이트 방법 설정 (random으로 설정하면 tol이 1e-4보다 높을 때 빠른 수렴)"
   ]
  },
  {
   "cell_type": "markdown",
   "metadata": {
    "id": "0eXTUaIV94K9"
   },
   "source": [
    "## 다항회귀"
   ]
  },
  {
   "cell_type": "code",
   "execution_count": null,
   "metadata": {
    "colab": {
     "base_uri": "https://localhost:8080/",
     "height": 447
    },
    "executionInfo": {
     "elapsed": 504,
     "status": "ok",
     "timestamp": 1714632512512,
     "user": {
      "displayName": "박병운",
      "userId": "04400398390095856511"
     },
     "user_tz": -540
    },
    "id": "yHOmjG5DxhDn",
    "outputId": "602ea73d-308c-47e5-f12d-adeb69ba5351"
   },
   "outputs": [],
   "source": [
    "import numpy as np\n",
    "import matplotlib.pyplot as plt\n",
    "%matplotlib inline\n",
    "\n",
    "n = 100\n",
    "x = 6 * np.random.rand(n, 1) - 3\n",
    "y = 0.5 * x**2 + 1 * x + 2 + np.random.rand(n, 1)\n",
    "plt.scatter(x, y, s=5)"
   ]
  },
  {
   "cell_type": "code",
   "execution_count": null,
   "metadata": {
    "colab": {
     "base_uri": "https://localhost:8080/"
    },
    "executionInfo": {
     "elapsed": 509,
     "status": "ok",
     "timestamp": 1714632522480,
     "user": {
      "displayName": "박병운",
      "userId": "04400398390095856511"
     },
     "user_tz": -540
    },
    "id": "SpYNOsFfyNL_",
    "outputId": "5cd4dd80-6e86-4fcf-df90-ac2f3383449a"
   },
   "outputs": [],
   "source": [
    "from sklearn.linear_model import LinearRegression\n",
    "from sklearn.preprocessing import PolynomialFeatures\n",
    "\n",
    "# 데이터 변환 과정과 머신러닝을 연결해주는 파이프라인\n",
    "from sklearn.pipeline import make_pipeline\n",
    "\n",
    "ploy_features = PolynomialFeatures(degree=2, include_bias=False)\n",
    "x_poly = ploy_features.fit_transform(x)\n",
    "x.shape, x_poly.shape"
   ]
  },
  {
   "cell_type": "code",
   "execution_count": null,
   "metadata": {
    "colab": {
     "base_uri": "https://localhost:8080/"
    },
    "executionInfo": {
     "elapsed": 503,
     "status": "ok",
     "timestamp": 1714632535396,
     "user": {
      "displayName": "박병운",
      "userId": "04400398390095856511"
     },
     "user_tz": -540
    },
    "id": "huQnyPI-pEVh",
    "outputId": "b0d17d6e-6073-417d-af2f-2f4369e98853"
   },
   "outputs": [],
   "source": [
    "x[0], x_poly[0]"
   ]
  },
  {
   "cell_type": "code",
   "execution_count": null,
   "metadata": {
    "colab": {
     "base_uri": "https://localhost:8080/"
    },
    "executionInfo": {
     "elapsed": 693,
     "status": "ok",
     "timestamp": 1714632578436,
     "user": {
      "displayName": "박병운",
      "userId": "04400398390095856511"
     },
     "user_tz": -540
    },
    "id": "qnwFfHwapXFA",
    "outputId": "7c6f6a0c-f09b-45d1-a3b7-50ad71bef5a5"
   },
   "outputs": [],
   "source": [
    "model = LinearRegression().fit(x_poly, y)\n",
    "model.coef_, model.intercept_"
   ]
  },
  {
   "cell_type": "code",
   "execution_count": null,
   "metadata": {
    "colab": {
     "base_uri": "https://localhost:8080/",
     "height": 126
    },
    "executionInfo": {
     "elapsed": 632,
     "status": "ok",
     "timestamp": 1714632659327,
     "user": {
      "displayName": "박병운",
      "userId": "04400398390095856511"
     },
     "user_tz": -540
    },
    "id": "os-Wvew2plU3",
    "outputId": "307d3c69-3cf5-4555-d895-94b1fd8f4539"
   },
   "outputs": [],
   "source": [
    "model_lr = make_pipeline(PolynomialFeatures(degree=2, include_bias=False),\n",
    "                         LinearRegression())\n",
    "model_lr.fit(x, y)"
   ]
  },
  {
   "cell_type": "code",
   "execution_count": null,
   "metadata": {
    "colab": {
     "base_uri": "https://localhost:8080/"
    },
    "executionInfo": {
     "elapsed": 4,
     "status": "ok",
     "timestamp": 1714632663198,
     "user": {
      "displayName": "박병운",
      "userId": "04400398390095856511"
     },
     "user_tz": -540
    },
    "id": "X6QTBBqCqKbA",
    "outputId": "c962aae7-ac23-41c2-9538-f758e0dfcd0a"
   },
   "outputs": [],
   "source": [
    "model_lr.steps[1][1].coef_"
   ]
  },
  {
   "cell_type": "code",
   "execution_count": null,
   "metadata": {
    "colab": {
     "base_uri": "https://localhost:8080/",
     "height": 447
    },
    "executionInfo": {
     "elapsed": 656,
     "status": "ok",
     "timestamp": 1714632667305,
     "user": {
      "displayName": "박병운",
      "userId": "04400398390095856511"
     },
     "user_tz": -540
    },
    "id": "gu2AjaFHzHbv",
    "outputId": "c7933b3d-bff1-47dc-c423-87122c4f08bf"
   },
   "outputs": [],
   "source": [
    "# 다항회귀 그래프\n",
    "plt.scatter(x, y, s=5)\n",
    "xx = np.linspace(-3, 3, 1000)\n",
    "yy = model_lr.predict(xx[:, np.newaxis])  # xx.reshape(-1, 1)과 같음\n",
    "plt.plot(xx, yy)"
   ]
  },
  {
   "cell_type": "markdown",
   "metadata": {
    "id": "M8EjGdzxewY5"
   },
   "source": [
    "#### PolynomialFeatures()\n",
    "```\n",
    "PolynomialFeatures(degree=2, *, interaction_only=False, include_bias=True)\n",
    "```\n",
    "\n",
    "- degree : 차수\n",
    "- interaction_only: True면 2차항에서 상호작용항만 출력\n",
    "- include_bias : 상수항 생성 여부\n",
    "\n",
    "\n",
    "다항 변환\n",
    "\n",
    "- 입력값  x 를 다항식으로 변환한다.\n",
    "\n",
    "> \\\\( x \\;\\; \\rightarrow \\;\\; [ 1, x, x^2, x^3, \\cdots ] \\\\) <br>\n",
    "\n",
    "> 만약 열의 갯수가 두 개이고 2차 다항식으로 변환하는 경우에는 다음처럼 변환한다.\n",
    "\n",
    "> \\\\( [x_1, x_2] \\;\\; \\rightarrow \\;\\; [ 1, x_1, x_2, x_1^2, x_1x_2, x_2^2 ] \\\\)  <br>\n",
    "\n",
    "> 예) <br>\n",
    "> \\\\( [x_1=0, x_2=1]  \\;\\; \\rightarrow \\;\\; [1, 0, 1, 0, 0, 1] \\\\) <br>\n",
    "\n",
    "> \\\\( [x_1=2, x_2=3]  \\;\\; \\rightarrow \\;\\; [1,2,3,4,6,9] \\\\)\n",
    "\n"
   ]
  },
  {
   "cell_type": "code",
   "execution_count": null,
   "metadata": {
    "id": "jHM8-qVkhLWs"
   },
   "outputs": [],
   "source": [
    "from sklearn.preprocessing import PolynomialFeatures\n",
    "X = np.arange(6).reshape(3, 2)\n",
    "X"
   ]
  },
  {
   "cell_type": "code",
   "execution_count": null,
   "metadata": {
    "colab": {
     "base_uri": "https://localhost:8080/"
    },
    "executionInfo": {
     "elapsed": 470,
     "status": "ok",
     "timestamp": 1714632695496,
     "user": {
      "displayName": "박병운",
      "userId": "04400398390095856511"
     },
     "user_tz": -540
    },
    "id": "QV2mMkbmsa7f",
    "outputId": "a211ea49-c203-4e1b-d280-350b6e9ee201"
   },
   "outputs": [],
   "source": [
    "poly = PolynomialFeatures(2)\n",
    "poly.fit_transform(X)"
   ]
  },
  {
   "cell_type": "code",
   "execution_count": null,
   "metadata": {
    "colab": {
     "base_uri": "https://localhost:8080/"
    },
    "executionInfo": {
     "elapsed": 2,
     "status": "ok",
     "timestamp": 1714632696978,
     "user": {
      "displayName": "박병운",
      "userId": "04400398390095856511"
     },
     "user_tz": -540
    },
    "id": "xDAye58LhOO-",
    "outputId": "f5229f14-29fe-42d5-f562-fe66294781ee"
   },
   "outputs": [],
   "source": [
    "# 다항차수는 적용하지 않고, 오직 상호작용(교호작용) 효과만을 분석하려면\n",
    "# interaction_only=True 옵션을 설정해주면 됩니다.\n",
    "# degree를 가지고 교호작용을 몇 개 수준까지 볼지 설정해줄 수 있습니다.\n",
    "\n",
    "poly = PolynomialFeatures(2, interaction_only=True)\n",
    "poly.fit_transform(X)"
   ]
  },
  {
   "cell_type": "markdown",
   "metadata": {
    "id": "qQZh4ZjczIEl"
   },
   "source": [
    "## Linear / Ridge / Lasso / ElasticNet Regression의 비교"
   ]
  },
  {
   "cell_type": "markdown",
   "metadata": {
    "id": "mtF4iw6UDHxR"
   },
   "source": [
    "|구분| 릿지회귀| 라쏘회귀| 엘라스틱넷|\n",
    "|---|---|---|---|\n",
    "|제약식| L2 norm| L1 norm| L1+L2 norm|\n",
    "|변수선택 |불가능| 가능| 가능|\n",
    "|solution| closed form| 명시해 없음| 명시해 없음|\n",
    "|장점| 변수간 상관관계가 높아도 좋은 성능| 변수간 상관관계가 높으면 성능↓| 변수간 상관관계를 반영한 정규화|\n",
    "|특징| 크기가 큰 변수를 우선 적으로 줄임|비중요 변수를 우선적 으로 줄임|상관관계가 큰 변수를 동시에 선택/배제|"
   ]
  },
  {
   "cell_type": "code",
   "execution_count": null,
   "metadata": {
    "colab": {
     "base_uri": "https://localhost:8080/",
     "height": 447
    },
    "executionInfo": {
     "elapsed": 518,
     "status": "ok",
     "timestamp": 1714632732109,
     "user": {
      "displayName": "박병운",
      "userId": "04400398390095856511"
     },
     "user_tz": -540
    },
    "id": "3zTMfk8EavsH",
    "outputId": "f630702d-21df-4085-9247-c6c8c70b15a2"
   },
   "outputs": [],
   "source": [
    "import seaborn as sb\n",
    "\n",
    "np.random.seed(0)\n",
    "n_samples = 30\n",
    "X = np.sort( np.random.rand(n_samples) )\n",
    "y = np.sin(2 * np.pi * X) + np.random.rand(n_samples) * 0.1\n",
    "plt.scatter(X, y)"
   ]
  },
  {
   "cell_type": "code",
   "execution_count": null,
   "metadata": {
    "colab": {
     "base_uri": "https://localhost:8080/",
     "height": 504
    },
    "executionInfo": {
     "elapsed": 1098,
     "status": "ok",
     "timestamp": 1714632826892,
     "user": {
      "displayName": "박병운",
      "userId": "04400398390095856511"
     },
     "user_tz": -540
    },
    "id": "-D9hNwHzt-p3",
    "outputId": "3fa08e58-76ee-4a61-d37c-619356e636a4"
   },
   "outputs": [],
   "source": [
    "# 선형회귀\n",
    "model_lr = make_pipeline(PolynomialFeatures(9), LinearRegression())\n",
    "model_lr.fit(X.reshape(-1, 1), y)\n",
    "print( model_lr.steps[1][1].coef_ )\n",
    "\n",
    "xx = np.linspace(0, 1, 1000)\n",
    "y_pred = model_lr.predict( xx.reshape(-1, 1) )\n",
    "plt.plot(xx, y_pred)\n",
    "plt.scatter(X, y)\n",
    "plt.ylim(-1.5, 1.5)"
   ]
  },
  {
   "cell_type": "code",
   "execution_count": null,
   "metadata": {
    "colab": {
     "base_uri": "https://localhost:8080/",
     "height": 487
    },
    "executionInfo": {
     "elapsed": 749,
     "status": "ok",
     "timestamp": 1714632939455,
     "user": {
      "displayName": "박병운",
      "userId": "04400398390095856511"
     },
     "user_tz": -540
    },
    "id": "XXpeGFZJvV3Y",
    "outputId": "2fe97c26-b03b-4abd-d25c-dc2b6dd9daef"
   },
   "outputs": [],
   "source": [
    "# 릿지회귀\n",
    "model_lr = make_pipeline(PolynomialFeatures(9), Ridge(alpha=0.01))\n",
    "model_lr.fit(X.reshape(-1, 1), y)\n",
    "print( model_lr.steps[1][1].coef_ )\n",
    "\n",
    "xx = np.linspace(0, 1, 1000)\n",
    "y_pred = model_lr.predict( xx.reshape(-1, 1) )\n",
    "plt.plot(xx, y_pred)\n",
    "plt.scatter(X, y)\n",
    "plt.ylim(-1.5, 1.5)"
   ]
  },
  {
   "cell_type": "code",
   "execution_count": null,
   "metadata": {
    "colab": {
     "base_uri": "https://localhost:8080/",
     "height": 487
    },
    "executionInfo": {
     "elapsed": 870,
     "status": "ok",
     "timestamp": 1714632982866,
     "user": {
      "displayName": "박병운",
      "userId": "04400398390095856511"
     },
     "user_tz": -540
    },
    "id": "HQytO-vfvx-f",
    "outputId": "a023dd68-00f4-48be-f009-9e7875387e4d"
   },
   "outputs": [],
   "source": [
    "# 랏소회귀\n",
    "model_lr = make_pipeline(PolynomialFeatures(9), Lasso(alpha=0.01))\n",
    "model_lr.fit(X.reshape(-1, 1), y)\n",
    "print( model_lr.steps[1][1].coef_ )\n",
    "\n",
    "xx = np.linspace(0, 1, 1000)\n",
    "y_pred = model_lr.predict( xx.reshape(-1, 1) )\n",
    "plt.plot(xx, y_pred)\n",
    "plt.scatter(X, y)\n",
    "plt.ylim(-1.5, 1.5)"
   ]
  },
  {
   "cell_type": "code",
   "execution_count": null,
   "metadata": {
    "colab": {
     "base_uri": "https://localhost:8080/",
     "height": 487
    },
    "executionInfo": {
     "elapsed": 707,
     "status": "ok",
     "timestamp": 1714633038724,
     "user": {
      "displayName": "박병운",
      "userId": "04400398390095856511"
     },
     "user_tz": -540
    },
    "id": "xxN8DER1wBFu",
    "outputId": "44130ab8-f60a-499c-e91e-b08913132560"
   },
   "outputs": [],
   "source": [
    "# 엘라스틱넷 회귀\n",
    "model_lr = make_pipeline(PolynomialFeatures(9), ElasticNet(alpha=0.01, l1_ratio=0.5))\n",
    "model_lr.fit(X.reshape(-1, 1), y)\n",
    "print( model_lr.steps[1][1].coef_ )\n",
    "\n",
    "xx = np.linspace(0, 1, 1000)\n",
    "y_pred = model_lr.predict( xx.reshape(-1, 1) )\n",
    "plt.plot(xx, y_pred)\n",
    "plt.scatter(X, y)\n",
    "plt.ylim(-1.5, 1.5)"
   ]
  }
 ],
 "metadata": {
  "colab": {
   "provenance": []
  },
  "kernelspec": {
   "display_name": "Python 3 (ipykernel)",
   "language": "python",
   "name": "python3"
  },
  "language_info": {
   "codemirror_mode": {
    "name": "ipython",
    "version": 3
   },
   "file_extension": ".py",
   "mimetype": "text/x-python",
   "name": "python",
   "nbconvert_exporter": "python",
   "pygments_lexer": "ipython3",
   "version": "3.11.9"
  }
 },
 "nbformat": 4,
 "nbformat_minor": 4
}
